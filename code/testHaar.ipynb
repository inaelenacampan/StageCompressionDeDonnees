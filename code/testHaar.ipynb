{
 "cells": [
  {
   "cell_type": "code",
   "execution_count": 1,
   "id": "4d4b34a1",
   "metadata": {},
   "outputs": [],
   "source": [
    "# Bibliotheques\n",
    "\n",
    "import numpy as np\n",
    "from PIL import Image\n",
    "\n",
    "import math"
   ]
  },
  {
   "cell_type": "code",
   "execution_count": 2,
   "id": "34ebb3e3",
   "metadata": {},
   "outputs": [],
   "source": [
    "# fonction de lecture de l'image\n",
    "\n",
    "def read_image(image_path):\n",
    "\n",
    "    # lecture et division en 2 matrices (Rouge, Vert et Blue)\n",
    "\n",
    "    image = Image.open(image_path)\n",
    "    \n",
    "    red_channel, green_channel, blue_channel = image.split()\n",
    "    \n",
    "    image_arrayR = np.array(red_channel)\n",
    "    image_arrayG = np.array(green_channel)\n",
    "    image_arrayB = np.array(blue_channel)\n",
    "\n",
    "    #verification que la taille de la matrice est de la forme 2**n X 2**n\n",
    "\n",
    "    print('Taille matrice : ' + str(image_arrayR.shape))\n",
    "\n",
    "    # Affichage de l'image en NB\n",
    "\n",
    "    image.show()\n",
    "    \n",
    "    return image_arrayR, image_arrayG, image_arrayB, int(image_arrayR.shape[1])\n",
    "\n",
    "# fonction qui genere l'image, a partir d'une matrice\n",
    "\n",
    "def generate_image(arrayR, arrayG, arrayB):\n",
    "    \n",
    "    image_matrix = np.dstack((arrayR, arrayG, arrayB))\n",
    "    reconstructed_image = Image.fromarray(image_matrix, \"RGB\")\n",
    "    reconstructed_image.show()\n",
    "    \n",
    "    return reconstructed_image"
   ]
  },
  {
   "cell_type": "code",
   "execution_count": 3,
   "id": "574a0345",
   "metadata": {},
   "outputs": [],
   "source": [
    "# creation de la matrice\n",
    "\n",
    "def create_matrix(n):\n",
    "    \n",
    "    A = np.zeros((n,n))\n",
    "    \n",
    "    for i in range(1,n+1):\n",
    "        for j in range(1,n+1):\n",
    "            if ((j <= n/2) and (i == 2*j-1 or i==2*j)):\n",
    "                A[i-1,j-1] = 1/math.sqrt(2)\n",
    "            elif ((j > n/2) and (i == 2*(j - n/2) -1 )):\n",
    "                A[i-1,j-1] = 1/math.sqrt(2)\n",
    "            elif ((j > n/2) and (i == 2*(j - n/2))):\n",
    "                A[i-1,j-1] = -1/math.sqrt(2)\n",
    "            else:\n",
    "                A[i-1,j-1] = 0\n",
    "    \n",
    "    return A\n",
    "\n",
    "def multiply_matrix(A, M):\n",
    "    \n",
    "    # calcul de la transposee\n",
    "    At = A.transpose()\n",
    "    \n",
    "    # N = (tA)MA\n",
    "    N = np.matmul(np.matmul(At, M), A)\n",
    "    \n",
    "    return N\n",
    "\n",
    "def remove_small_values(N, e):\n",
    "    \n",
    "    # e = precision\n",
    "    n = N.shape[1]\n",
    "    \n",
    "    for i in range(n):\n",
    "        for j in range(n):\n",
    "            if(abs(N[i,j]) < e):\n",
    "                N[i,j] = 0\n",
    "\n",
    "def new_matrix(N, A):\n",
    "    \n",
    "    # inverse de la matrice\n",
    "    iA = np.linalg.inv(A)\n",
    "    \n",
    "    # M' = t(A^(-1))N(A^(-1)\n",
    "    M  = np.matmul(np.matmul(iA.transpose(), N), iA)\n",
    "    \n",
    "    return M\n",
    "\n",
    "def HaarImageCompression(n, M ,e):\n",
    "    \n",
    "    A = create_matrix(n)\n",
    "    N = multiply_matrix(A, M)\n",
    "    \n",
    "    #generate_image(N)\n",
    "    \n",
    "    remove_small_values(N, e)\n",
    "    \n",
    "    return new_matrix(N, A)"
   ]
  },
  {
   "cell_type": "code",
   "execution_count": 4,
   "id": "997a95ca",
   "metadata": {},
   "outputs": [
    {
     "name": "stdout",
     "output_type": "stream",
     "text": [
      "Taille matrice : (256, 256)\n"
     ]
    }
   ],
   "source": [
    "\n",
    "test_arrayR, test_arrayG, test_arrayB, size = read_image('cat.jpg')\n",
    "reconstructed_image = generate_image(HaarImageCompression(size, test_arrayR, 200), \n",
    "                                     HaarImageCompression(size, test_arrayG, 200),\n",
    "                                     HaarImageCompression(size, test_arrayB, 200))\n"
   ]
  },
  {
   "cell_type": "code",
   "execution_count": 5,
   "id": "d740643d",
   "metadata": {},
   "outputs": [
    {
     "ename": "ValueError",
     "evalue": "too many values to unpack (expected 3)",
     "output_type": "error",
     "traceback": [
      "\u001b[1;31m---------------------------------------------------------------------------\u001b[0m",
      "\u001b[1;31mValueError\u001b[0m                                Traceback (most recent call last)",
      "\u001b[1;32m<ipython-input-5-bcec49d0c3b8>\u001b[0m in \u001b[0;36m<module>\u001b[1;34m\u001b[0m\n\u001b[1;32m----> 1\u001b[1;33m \u001b[0mtest_array\u001b[0m\u001b[1;33m,\u001b[0m \u001b[0msize\u001b[0m \u001b[1;33m=\u001b[0m \u001b[0mread_image\u001b[0m\u001b[1;33m(\u001b[0m\u001b[1;34m'Google.png'\u001b[0m\u001b[1;33m)\u001b[0m\u001b[1;33m\u001b[0m\u001b[1;33m\u001b[0m\u001b[0m\n\u001b[0m\u001b[0;32m      2\u001b[0m \u001b[0mreconstructed_image\u001b[0m \u001b[1;33m=\u001b[0m \u001b[0mgenerate_image\u001b[0m\u001b[1;33m(\u001b[0m\u001b[0mHaarImageCompression\u001b[0m\u001b[1;33m(\u001b[0m\u001b[0msize\u001b[0m\u001b[1;33m,\u001b[0m \u001b[0mtest_array\u001b[0m\u001b[1;33m,\u001b[0m \u001b[1;36m300\u001b[0m\u001b[1;33m)\u001b[0m\u001b[1;33m)\u001b[0m\u001b[1;33m\u001b[0m\u001b[1;33m\u001b[0m\u001b[0m\n",
      "\u001b[1;32m<ipython-input-2-9841149d8cfb>\u001b[0m in \u001b[0;36mread_image\u001b[1;34m(image_path)\u001b[0m\n\u001b[0;32m      7\u001b[0m     \u001b[0mimage\u001b[0m \u001b[1;33m=\u001b[0m \u001b[0mImage\u001b[0m\u001b[1;33m.\u001b[0m\u001b[0mopen\u001b[0m\u001b[1;33m(\u001b[0m\u001b[0mimage_path\u001b[0m\u001b[1;33m)\u001b[0m\u001b[1;33m\u001b[0m\u001b[1;33m\u001b[0m\u001b[0m\n\u001b[0;32m      8\u001b[0m \u001b[1;33m\u001b[0m\u001b[0m\n\u001b[1;32m----> 9\u001b[1;33m     \u001b[0mred_channel\u001b[0m\u001b[1;33m,\u001b[0m \u001b[0mgreen_channel\u001b[0m\u001b[1;33m,\u001b[0m \u001b[0mblue_channel\u001b[0m \u001b[1;33m=\u001b[0m \u001b[0mimage\u001b[0m\u001b[1;33m.\u001b[0m\u001b[0msplit\u001b[0m\u001b[1;33m(\u001b[0m\u001b[1;33m)\u001b[0m\u001b[1;33m\u001b[0m\u001b[1;33m\u001b[0m\u001b[0m\n\u001b[0m\u001b[0;32m     10\u001b[0m \u001b[1;33m\u001b[0m\u001b[0m\n\u001b[0;32m     11\u001b[0m     \u001b[0mimage_arrayR\u001b[0m \u001b[1;33m=\u001b[0m \u001b[0mnp\u001b[0m\u001b[1;33m.\u001b[0m\u001b[0marray\u001b[0m\u001b[1;33m(\u001b[0m\u001b[0mred_channel\u001b[0m\u001b[1;33m)\u001b[0m\u001b[1;33m\u001b[0m\u001b[1;33m\u001b[0m\u001b[0m\n",
      "\u001b[1;31mValueError\u001b[0m: too many values to unpack (expected 3)"
     ]
    }
   ],
   "source": [
    "test_array, size = read_image('Google.png')\n",
    "reconstructed_image = generate_image(HaarImageCompression(size, test_array, 300))"
   ]
  },
  {
   "cell_type": "code",
   "execution_count": null,
   "id": "3232fb52",
   "metadata": {},
   "outputs": [],
   "source": [
    "def split_image(image_path):\n",
    "    \n",
    "    image = Image.open(image_path)\n",
    "    red_channel, green_channel, blue_channel = image.split()\n",
    "    \n",
    "    image_arrayR = np.array(red_channel)\n",
    "    image_arrayG = np.array(green_channel)\n",
    "    image_arrayB = np.array(blue_channel)\n",
    "    \n",
    "    return image_arrayR, image_arrayG, image_arrayB"
   ]
  },
  {
   "cell_type": "code",
   "execution_count": null,
   "id": "b6e5b027",
   "metadata": {},
   "outputs": [],
   "source": [
    "def generateimage_RGB(arrayR, arrayG, arrayB):\n",
    "    \n",
    "    image_matrix = np.dstack((arrayR, arrayG, arrayB))\n",
    "    image = Image.fromarray(image_matrix, \"RGB\")\n",
    "    image.show()\n",
    "    return image"
   ]
  },
  {
   "cell_type": "code",
   "execution_count": null,
   "id": "aee57402",
   "metadata": {},
   "outputs": [],
   "source": [
    "R,G,B = split_image('jaune.jpg')\n",
    "generateimage_RGB(R,G,B)"
   ]
  },
  {
   "cell_type": "code",
   "execution_count": null,
   "id": "d173c484",
   "metadata": {},
   "outputs": [],
   "source": [
    "test_array, size = read_image('jaune.jpg')\n",
    "reconstructed_image = generate_image(HaarImageCompression(size, test_array, 300))"
   ]
  },
  {
   "cell_type": "code",
   "execution_count": null,
   "id": "42134703",
   "metadata": {},
   "outputs": [],
   "source": []
  }
 ],
 "metadata": {
  "kernelspec": {
   "display_name": "Python 3",
   "language": "python",
   "name": "python3"
  },
  "language_info": {
   "codemirror_mode": {
    "name": "ipython",
    "version": 3
   },
   "file_extension": ".py",
   "mimetype": "text/x-python",
   "name": "python",
   "nbconvert_exporter": "python",
   "pygments_lexer": "ipython3",
   "version": "3.8.8"
  }
 },
 "nbformat": 4,
 "nbformat_minor": 5
}
